{
 "cells": [
  {
   "cell_type": "markdown",
   "id": "victorian-compatibility",
   "metadata": {},
   "source": [
    "# read packages and data \n",
    "\n",
    "project goals/Inspiration\n",
    "\n",
    "- Can you describe the vibe of each Seattle neighborhood using listing descriptions?\n",
    "- What are the busiest times of the year to visit Seattle? By how much do prices spike?\n",
    "- Is there a general upward trend of both new Airbnb listings and total Airbnb visitors to Seattle?"
   ]
  },
  {
   "cell_type": "code",
   "execution_count": 1,
   "id": "corporate-zambia",
   "metadata": {
    "ExecuteTime": {
     "end_time": "2021-03-11T19:21:08.070916Z",
     "start_time": "2021-03-11T19:21:06.231503Z"
    }
   },
   "outputs": [],
   "source": [
    "import pandas as pd\n",
    "import numpy as np\n",
    "import matplotlib.pyplot as plt\n",
    "import seaborn as sns\n",
    "\n",
    "ls=pd.read_csv('listings.csv')\n",
    "review = pd.read_csv('reviews.csv')\n",
    "calendar = pd.read_csv('calendar.csv')"
   ]
  },
  {
   "cell_type": "markdown",
   "id": "numerical-easter",
   "metadata": {},
   "source": [
    "# data exploration, cleanning, and engineering"
   ]
  },
  {
   "cell_type": "code",
   "execution_count": 2,
   "id": "typical-carnival",
   "metadata": {
    "ExecuteTime": {
     "end_time": "2021-03-11T19:21:08.086184Z",
     "start_time": "2021-03-11T19:21:08.072120Z"
    }
   },
   "outputs": [
    {
     "name": "stdout",
     "output_type": "stream",
     "text": [
      "listings has id                                    0\n",
      "listing_url                           0\n",
      "scrape_id                             0\n",
      "last_scraped                          0\n",
      "name                                  0\n",
      "                                   ... \n",
      "cancellation_policy                   0\n",
      "require_guest_profile_picture         0\n",
      "require_guest_phone_verification      0\n",
      "calculated_host_listings_count        0\n",
      "reviews_per_month                   627\n",
      "Length: 92, dtype: int64 missing values\n"
     ]
    }
   ],
   "source": [
    "print(f'listings has {ls.isnull().sum()} missing values')"
   ]
  },
  {
   "cell_type": "code",
   "execution_count": 3,
   "id": "opposed-international",
   "metadata": {
    "ExecuteTime": {
     "end_time": "2021-03-11T19:21:08.101173Z",
     "start_time": "2021-03-11T19:21:08.087553Z"
    }
   },
   "outputs": [
    {
     "data": {
      "text/plain": [
       "92"
      ]
     },
     "execution_count": 3,
     "metadata": {},
     "output_type": "execute_result"
    }
   ],
   "source": [
    "missing_value_columns = (ls.isnull().sum()==0)\n",
    "len(missing_value_columns)"
   ]
  },
  {
   "cell_type": "code",
   "execution_count": 4,
   "id": "blessed-arctic",
   "metadata": {
    "ExecuteTime": {
     "end_time": "2021-03-11T19:21:08.106112Z",
     "start_time": "2021-03-11T19:21:08.103335Z"
    }
   },
   "outputs": [],
   "source": [
    "# keep \n",
    "cols_to_keep = ['id', 'name','host_id', 'host_name', 'host_since', \\\n",
    "                   'host_location','host_response_rate', 'host_acceptance_rate', 'host_is_superhost',\\\n",
    "                   'host_neighbourhood','host_listings_count', 'host_total_listings_count','neighbourhood', \\\n",
    "                   'neighbourhood_cleansed','neighbourhood_group_cleansed','zipcode','is_location_exact', \\\n",
    "                   'property_type', 'room_type', 'accommodates','bathrooms', 'bedrooms', 'beds', 'bed_type',\\\n",
    "                   'amenities','price', 'weekly_price', 'monthly_price', 'security_deposit',\\\n",
    "                   'cleaning_fee', 'guests_included', 'extra_people', 'minimum_nights','maximum_nights', \\\n",
    "                   'calendar_updated','has_availability','availability_30', 'availability_60', \\\n",
    "                   'availability_90','availability_365','number_of_reviews','first_review', 'last_review', \\\n",
    "                   'review_scores_rating','review_scores_accuracy', 'review_scores_cleanliness',\\\n",
    "                   'review_scores_checkin', 'review_scores_communication','review_scores_location', \\\n",
    "                   'review_scores_value','requires_license','cancellation_policy','require_guest_profile_picture',\\\n",
    "                   'require_guest_phone_verification', 'calculated_host_listings_count','reviews_per_month']"
   ]
  },
  {
   "cell_type": "code",
   "execution_count": 5,
   "id": "monthly-raise",
   "metadata": {
    "ExecuteTime": {
     "end_time": "2021-03-11T19:21:08.118488Z",
     "start_time": "2021-03-11T19:21:08.107200Z"
    }
   },
   "outputs": [],
   "source": [
    "cols=cols_to_keep.copy()\n",
    "new_ls=ls[cols]"
   ]
  },
  {
   "cell_type": "code",
   "execution_count": 6,
   "id": "varied-anderson",
   "metadata": {
    "ExecuteTime": {
     "end_time": "2021-03-11T19:21:08.129385Z",
     "start_time": "2021-03-11T19:21:08.119455Z"
    }
   },
   "outputs": [
    {
     "data": {
      "text/plain": [
       "monthly_price                       60.267156\n",
       "security_deposit                    51.126244\n",
       "weekly_price                        47.380828\n",
       "cleaning_fee                        26.977475\n",
       "host_acceptance_rate                20.246202\n",
       "review_scores_checkin               17.234154\n",
       "review_scores_accuracy              17.234154\n",
       "review_scores_value                 17.181771\n",
       "review_scores_location              17.155579\n",
       "review_scores_cleanliness           17.103195\n",
       "review_scores_communication         17.050812\n",
       "review_scores_rating                16.946045\n",
       "last_review                         16.422211\n",
       "first_review                        16.422211\n",
       "reviews_per_month                   16.422211\n",
       "host_response_rate                  13.698271\n",
       "neighbourhood                       10.895757\n",
       "host_neighbourhood                   7.857517\n",
       "bathrooms                            0.419068\n",
       "host_location                        0.209534\n",
       "zipcode                              0.183342\n",
       "bedrooms                             0.157150\n",
       "host_total_listings_count            0.052383\n",
       "host_listings_count                  0.052383\n",
       "host_is_superhost                    0.052383\n",
       "host_name                            0.052383\n",
       "host_since                           0.052383\n",
       "property_type                        0.026192\n",
       "beds                                 0.026192\n",
       "number_of_reviews                    0.000000\n",
       "host_id                              0.000000\n",
       "availability_90                      0.000000\n",
       "requires_license                     0.000000\n",
       "cancellation_policy                  0.000000\n",
       "require_guest_profile_picture        0.000000\n",
       "require_guest_phone_verification     0.000000\n",
       "calculated_host_listings_count       0.000000\n",
       "availability_365                     0.000000\n",
       "has_availability                     0.000000\n",
       "availability_60                      0.000000\n",
       "neighbourhood_cleansed               0.000000\n",
       "room_type                            0.000000\n",
       "accommodates                         0.000000\n",
       "bed_type                             0.000000\n",
       "amenities                            0.000000\n",
       "price                                0.000000\n",
       "neighbourhood_group_cleansed         0.000000\n",
       "name                                 0.000000\n",
       "availability_30                      0.000000\n",
       "guests_included                      0.000000\n",
       "extra_people                         0.000000\n",
       "minimum_nights                       0.000000\n",
       "maximum_nights                       0.000000\n",
       "calendar_updated                     0.000000\n",
       "is_location_exact                    0.000000\n",
       "id                                   0.000000\n",
       "dtype: float64"
      ]
     },
     "execution_count": 6,
     "metadata": {},
     "output_type": "execute_result"
    }
   ],
   "source": [
    "# calculate percentage of missing values in columns selected to be kept\n",
    "(new_ls.isnull().sum()/ls.shape[0]*100).sort_values(ascending=False)"
   ]
  },
  {
   "cell_type": "code",
   "execution_count": 7,
   "id": "flexible-cigarette",
   "metadata": {
    "ExecuteTime": {
     "end_time": "2021-03-11T19:21:08.150086Z",
     "start_time": "2021-03-11T19:21:08.130585Z"
    }
   },
   "outputs": [
    {
     "data": {
      "text/html": [
       "<div>\n",
       "<style scoped>\n",
       "    .dataframe tbody tr th:only-of-type {\n",
       "        vertical-align: middle;\n",
       "    }\n",
       "\n",
       "    .dataframe tbody tr th {\n",
       "        vertical-align: top;\n",
       "    }\n",
       "\n",
       "    .dataframe thead th {\n",
       "        text-align: right;\n",
       "    }\n",
       "</style>\n",
       "<table border=\"1\" class=\"dataframe\">\n",
       "  <thead>\n",
       "    <tr style=\"text-align: right;\">\n",
       "      <th></th>\n",
       "      <th>neighbourhood</th>\n",
       "      <th>neighbourhood_cleansed</th>\n",
       "      <th>neighbourhood_group_cleansed</th>\n",
       "    </tr>\n",
       "  </thead>\n",
       "  <tbody>\n",
       "    <tr>\n",
       "      <th>12</th>\n",
       "      <td>NaN</td>\n",
       "      <td>West Queen Anne</td>\n",
       "      <td>Queen Anne</td>\n",
       "    </tr>\n",
       "    <tr>\n",
       "      <th>15</th>\n",
       "      <td>NaN</td>\n",
       "      <td>West Queen Anne</td>\n",
       "      <td>Queen Anne</td>\n",
       "    </tr>\n",
       "    <tr>\n",
       "      <th>20</th>\n",
       "      <td>NaN</td>\n",
       "      <td>West Queen Anne</td>\n",
       "      <td>Queen Anne</td>\n",
       "    </tr>\n",
       "    <tr>\n",
       "      <th>51</th>\n",
       "      <td>NaN</td>\n",
       "      <td>West Queen Anne</td>\n",
       "      <td>Queen Anne</td>\n",
       "    </tr>\n",
       "    <tr>\n",
       "      <th>65</th>\n",
       "      <td>NaN</td>\n",
       "      <td>Adams</td>\n",
       "      <td>Ballard</td>\n",
       "    </tr>\n",
       "    <tr>\n",
       "      <th>...</th>\n",
       "      <td>...</td>\n",
       "      <td>...</td>\n",
       "      <td>...</td>\n",
       "    </tr>\n",
       "    <tr>\n",
       "      <th>3779</th>\n",
       "      <td>NaN</td>\n",
       "      <td>Fremont</td>\n",
       "      <td>Other neighborhoods</td>\n",
       "    </tr>\n",
       "    <tr>\n",
       "      <th>3795</th>\n",
       "      <td>NaN</td>\n",
       "      <td>Fremont</td>\n",
       "      <td>Other neighborhoods</td>\n",
       "    </tr>\n",
       "    <tr>\n",
       "      <th>3802</th>\n",
       "      <td>NaN</td>\n",
       "      <td>Fremont</td>\n",
       "      <td>Other neighborhoods</td>\n",
       "    </tr>\n",
       "    <tr>\n",
       "      <th>3815</th>\n",
       "      <td>NaN</td>\n",
       "      <td>Rainier Beach</td>\n",
       "      <td>Rainier Valley</td>\n",
       "    </tr>\n",
       "    <tr>\n",
       "      <th>3816</th>\n",
       "      <td>NaN</td>\n",
       "      <td>Madison Park</td>\n",
       "      <td>Capitol Hill</td>\n",
       "    </tr>\n",
       "  </tbody>\n",
       "</table>\n",
       "<p>416 rows × 3 columns</p>\n",
       "</div>"
      ],
      "text/plain": [
       "     neighbourhood neighbourhood_cleansed neighbourhood_group_cleansed\n",
       "12             NaN        West Queen Anne                   Queen Anne\n",
       "15             NaN        West Queen Anne                   Queen Anne\n",
       "20             NaN        West Queen Anne                   Queen Anne\n",
       "51             NaN        West Queen Anne                   Queen Anne\n",
       "65             NaN                  Adams                      Ballard\n",
       "...            ...                    ...                          ...\n",
       "3779           NaN                Fremont          Other neighborhoods\n",
       "3795           NaN                Fremont          Other neighborhoods\n",
       "3802           NaN                Fremont          Other neighborhoods\n",
       "3815           NaN          Rainier Beach               Rainier Valley\n",
       "3816           NaN           Madison Park                 Capitol Hill\n",
       "\n",
       "[416 rows x 3 columns]"
      ]
     },
     "execution_count": 7,
     "metadata": {},
     "output_type": "execute_result"
    }
   ],
   "source": [
    "# Comparison of three neighbourhood fields\n",
    "# Will use neighbourhood_group_cleansed as the grouping paramter\n",
    "new_ls.loc[ls['neighbourhood'].isnull()==True, ['neighbourhood','neighbourhood_cleansed','neighbourhood_group_cleansed']]"
   ]
  },
  {
   "cell_type": "code",
   "execution_count": 8,
   "id": "optional-proposition",
   "metadata": {
    "ExecuteTime": {
     "end_time": "2021-03-11T19:21:08.166307Z",
     "start_time": "2021-03-11T19:21:08.152533Z"
    },
    "scrolled": true
   },
   "outputs": [
    {
     "data": {
      "text/plain": [
       "Other neighborhoods    794\n",
       "Capitol Hill           567\n",
       "Downtown               530\n",
       "Central Area           369\n",
       "Queen Anne             295\n",
       "Ballard                230\n",
       "West Seattle           203\n",
       "Rainier Valley         159\n",
       "University District    122\n",
       "Beacon Hill            118\n",
       "Cascade                 89\n",
       "Northgate               80\n",
       "Delridge                79\n",
       "Lake City               67\n",
       "Magnolia                61\n",
       "Seward Park             44\n",
       "Interbay                11\n",
       "Name: neighbourhood_group_cleansed, dtype: int64"
      ]
     },
     "execution_count": 8,
     "metadata": {},
     "output_type": "execute_result"
    }
   ],
   "source": [
    "df_mean=new_ls.drop(columns=['id','host_id']).groupby('neighbourhood_group_cleansed').mean().reset_index()\n",
    "ls['neighbourhood_group_cleansed'].value_counts()"
   ]
  },
  {
   "cell_type": "code",
   "execution_count": 9,
   "id": "desirable-surgeon",
   "metadata": {
    "ExecuteTime": {
     "end_time": "2021-03-11T19:21:08.395794Z",
     "start_time": "2021-03-11T19:21:08.167927Z"
    },
    "scrolled": true
   },
   "outputs": [
    {
     "data": {
      "image/png": "[encoded data removed]",
      "text/plain": [
       "<Figure size 1800x1728 with 1 Axes>"
      ]
     },
     "metadata": {
      "needs_background": "light"
     },
     "output_type": "display_data"
    }
   ],
   "source": [
    "total = len(ls)\n",
    "\n",
    "plt.figure(figsize=(25,24))\n",
    "plt.suptitle('Distributions', fontsize=22)\n",
    "\n",
    "plt.subplot(211)\n",
    "g = sns.countplot(x='neighbourhood_group_cleansed', data=ls)\n",
    "# plt.legend(title='Fraud', loc='upper center', labels=['No', 'Yes'])\n",
    "g.set_title(\"Neighbourhood Distribution\", fontsize=25)\n",
    "g.set_ylim(0,1000)\n",
    "g.set_xlabel(\"Neighbourhood Names\", fontsize=17)\n",
    "g.set_ylabel(\"Count\", fontsize=16)\n",
    "for p in g.patches:\n",
    "    height = p.get_height()\n",
    "    g.text(p.get_x()+p.get_width()/2.,\n",
    "            height + 3,\n",
    "            '{:1.2f}%'.format(height/total*100),\n",
    "            ha=\"center\", fontsize=14) \n",
    "\n",
    "plt.subplots_adjust(hspace = 0.6, top = 0.85)\n",
    "\n",
    "plt.show()"
   ]
  },
  {
   "cell_type": "code",
   "execution_count": null,
   "id": "finished-alignment",
   "metadata": {},
   "outputs": [],
   "source": [
    "total = len(ls)\n",
    "\n",
    "plt.figure(figsize=(25,24))\n",
    "plt.suptitle('Distributions', fontsize=22)\n",
    "\n",
    "plt.subplot(211)\n",
    "g = sns.barplot(x='neighbourhood_group_cleansed', \n",
    "                y='',data=ls)\n",
    "# plt.legend(title='Fraud', loc='upper center', labels=['No', 'Yes'])\n",
    "g.set_title(\"Neighbourhood Distribution\", fontsize=25)\n",
    "g.set_ylim(0,1000)\n",
    "g.set_xlabel(\"Neighbourhood Names\", fontsize=17)\n",
    "g.set_ylabel(\"Count\", fontsize=16)\n",
    "for p in g.patches:\n",
    "    height = p.get_height()\n",
    "    g.text(p.get_x()+p.get_width()/2.,\n",
    "            height + 3,\n",
    "            '{:1.2f}%'.format(height/total*100),\n",
    "            ha=\"center\", fontsize=14) \n",
    "\n",
    "plt.subplots_adjust(hspace = 0.6, top = 0.85)\n",
    "\n",
    "plt.show()"
   ]
  },
  {
   "cell_type": "code",
   "execution_count": 30,
   "id": "valuable-mississippi",
   "metadata": {
    "ExecuteTime": {
     "end_time": "2021-03-11T19:57:46.740100Z",
     "start_time": "2021-03-11T19:57:46.651080Z"
    }
   },
   "outputs": [
    {
     "ename": "TypeError",
     "evalue": "'Series' objects are mutable, thus they cannot be hashed",
     "output_type": "error",
     "traceback": [
      "\u001b[0;31m---------------------------------------------------------------------------\u001b[0m",
      "\u001b[0;31mTypeError\u001b[0m                                 Traceback (most recent call last)",
      "\u001b[0;32m<ipython-input-30-5708a0e6295d>\u001b[0m in \u001b[0;36m<module>\u001b[0;34m\u001b[0m\n\u001b[1;32m      1\u001b[0m \u001b[0mls\u001b[0m\u001b[0;34m[\u001b[0m\u001b[0;34m'host_response_rate'\u001b[0m\u001b[0;34m]\u001b[0m\u001b[0;34m=\u001b[0m\u001b[0mls\u001b[0m\u001b[0;34m[\u001b[0m\u001b[0;34m'host_response_rate'\u001b[0m\u001b[0;34m]\u001b[0m\u001b[0;34m.\u001b[0m\u001b[0mstr\u001b[0m\u001b[0;34m.\u001b[0m\u001b[0mreplace\u001b[0m\u001b[0;34m(\u001b[0m\u001b[0;34m'%'\u001b[0m\u001b[0;34m,\u001b[0m\u001b[0;34m''\u001b[0m\u001b[0;34m)\u001b[0m\u001b[0;34m\u001b[0m\u001b[0;34m\u001b[0m\u001b[0m\n\u001b[1;32m      2\u001b[0m \u001b[0;31m#ls['host_response_rate'] = ls['host_response_rate']\u001b[0m\u001b[0;34m\u001b[0m\u001b[0;34m\u001b[0m\u001b[0;34m\u001b[0m\u001b[0m\n\u001b[0;32m----> 3\u001b[0;31m \u001b[0mls\u001b[0m\u001b[0;34m[\u001b[0m\u001b[0mls\u001b[0m\u001b[0;34m[\u001b[0m\u001b[0;34m'host_response_rate'\u001b[0m\u001b[0;34m]\u001b[0m\u001b[0;34m==\u001b[0m\u001b[0;34m'NaN'\u001b[0m\u001b[0;34m,\u001b[0m\u001b[0;34m'host_response_rate'\u001b[0m\u001b[0;34m]\u001b[0m \u001b[0;34m=\u001b[0m \u001b[0mnp\u001b[0m\u001b[0;34m.\u001b[0m\u001b[0mNaN\u001b[0m\u001b[0;34m\u001b[0m\u001b[0;34m\u001b[0m\u001b[0m\n\u001b[0m",
      "\u001b[0;32m~/anaconda/anaconda3/lib/python3.8/site-packages/pandas/core/frame.py\u001b[0m in \u001b[0;36m__setitem__\u001b[0;34m(self, key, value)\u001b[0m\n\u001b[1;32m   3161\u001b[0m         \u001b[0;32melse\u001b[0m\u001b[0;34m:\u001b[0m\u001b[0;34m\u001b[0m\u001b[0;34m\u001b[0m\u001b[0m\n\u001b[1;32m   3162\u001b[0m             \u001b[0;31m# set column\u001b[0m\u001b[0;34m\u001b[0m\u001b[0;34m\u001b[0m\u001b[0;34m\u001b[0m\u001b[0m\n\u001b[0;32m-> 3163\u001b[0;31m             \u001b[0mself\u001b[0m\u001b[0;34m.\u001b[0m\u001b[0m_set_item\u001b[0m\u001b[0;34m(\u001b[0m\u001b[0mkey\u001b[0m\u001b[0;34m,\u001b[0m \u001b[0mvalue\u001b[0m\u001b[0;34m)\u001b[0m\u001b[0;34m\u001b[0m\u001b[0;34m\u001b[0m\u001b[0m\n\u001b[0m\u001b[1;32m   3164\u001b[0m \u001b[0;34m\u001b[0m\u001b[0m\n\u001b[1;32m   3165\u001b[0m     \u001b[0;32mdef\u001b[0m \u001b[0m_setitem_slice\u001b[0m\u001b[0;34m(\u001b[0m\u001b[0mself\u001b[0m\u001b[0;34m,\u001b[0m \u001b[0mkey\u001b[0m\u001b[0;34m:\u001b[0m \u001b[0mslice\u001b[0m\u001b[0;34m,\u001b[0m \u001b[0mvalue\u001b[0m\u001b[0;34m)\u001b[0m\u001b[0;34m:\u001b[0m\u001b[0;34m\u001b[0m\u001b[0;34m\u001b[0m\u001b[0m\n",
      "\u001b[0;32m~/anaconda/anaconda3/lib/python3.8/site-packages/pandas/core/frame.py\u001b[0m in \u001b[0;36m_set_item\u001b[0;34m(self, key, value)\u001b[0m\n\u001b[1;32m   3237\u001b[0m         \"\"\"\n\u001b[1;32m   3238\u001b[0m         \u001b[0mself\u001b[0m\u001b[0;34m.\u001b[0m\u001b[0m_ensure_valid_index\u001b[0m\u001b[0;34m(\u001b[0m\u001b[0mvalue\u001b[0m\u001b[0;34m)\u001b[0m\u001b[0;34m\u001b[0m\u001b[0;34m\u001b[0m\u001b[0m\n\u001b[0;32m-> 3239\u001b[0;31m         \u001b[0mvalue\u001b[0m \u001b[0;34m=\u001b[0m \u001b[0mself\u001b[0m\u001b[0;34m.\u001b[0m\u001b[0m_sanitize_column\u001b[0m\u001b[0;34m(\u001b[0m\u001b[0mkey\u001b[0m\u001b[0;34m,\u001b[0m \u001b[0mvalue\u001b[0m\u001b[0;34m)\u001b[0m\u001b[0;34m\u001b[0m\u001b[0;34m\u001b[0m\u001b[0m\n\u001b[0m\u001b[1;32m   3240\u001b[0m         \u001b[0mNDFrame\u001b[0m\u001b[0;34m.\u001b[0m\u001b[0m_set_item\u001b[0m\u001b[0;34m(\u001b[0m\u001b[0mself\u001b[0m\u001b[0;34m,\u001b[0m \u001b[0mkey\u001b[0m\u001b[0;34m,\u001b[0m \u001b[0mvalue\u001b[0m\u001b[0;34m)\u001b[0m\u001b[0;34m\u001b[0m\u001b[0;34m\u001b[0m\u001b[0m\n\u001b[1;32m   3241\u001b[0m \u001b[0;34m\u001b[0m\u001b[0m\n",
      "\u001b[0;32m~/anaconda/anaconda3/lib/python3.8/site-packages/pandas/core/frame.py\u001b[0m in \u001b[0;36m_sanitize_column\u001b[0;34m(self, key, value, broadcast)\u001b[0m\n\u001b[1;32m   3926\u001b[0m \u001b[0;34m\u001b[0m\u001b[0m\n\u001b[1;32m   3927\u001b[0m         \u001b[0;31m# broadcast across multiple columns if necessary\u001b[0m\u001b[0;34m\u001b[0m\u001b[0;34m\u001b[0m\u001b[0;34m\u001b[0m\u001b[0m\n\u001b[0;32m-> 3928\u001b[0;31m         \u001b[0;32mif\u001b[0m \u001b[0mbroadcast\u001b[0m \u001b[0;32mand\u001b[0m \u001b[0mkey\u001b[0m \u001b[0;32min\u001b[0m \u001b[0mself\u001b[0m\u001b[0;34m.\u001b[0m\u001b[0mcolumns\u001b[0m \u001b[0;32mand\u001b[0m \u001b[0mvalue\u001b[0m\u001b[0;34m.\u001b[0m\u001b[0mndim\u001b[0m \u001b[0;34m==\u001b[0m \u001b[0;36m1\u001b[0m\u001b[0;34m:\u001b[0m\u001b[0;34m\u001b[0m\u001b[0;34m\u001b[0m\u001b[0m\n\u001b[0m\u001b[1;32m   3929\u001b[0m             \u001b[0;32mif\u001b[0m \u001b[0;32mnot\u001b[0m \u001b[0mself\u001b[0m\u001b[0;34m.\u001b[0m\u001b[0mcolumns\u001b[0m\u001b[0;34m.\u001b[0m\u001b[0mis_unique\u001b[0m \u001b[0;32mor\u001b[0m \u001b[0misinstance\u001b[0m\u001b[0;34m(\u001b[0m\u001b[0mself\u001b[0m\u001b[0;34m.\u001b[0m\u001b[0mcolumns\u001b[0m\u001b[0;34m,\u001b[0m \u001b[0mMultiIndex\u001b[0m\u001b[0;34m)\u001b[0m\u001b[0;34m:\u001b[0m\u001b[0;34m\u001b[0m\u001b[0;34m\u001b[0m\u001b[0m\n\u001b[1;32m   3930\u001b[0m                 \u001b[0mexisting_piece\u001b[0m \u001b[0;34m=\u001b[0m \u001b[0mself\u001b[0m\u001b[0;34m[\u001b[0m\u001b[0mkey\u001b[0m\u001b[0;34m]\u001b[0m\u001b[0;34m\u001b[0m\u001b[0;34m\u001b[0m\u001b[0m\n",
      "\u001b[0;32m~/anaconda/anaconda3/lib/python3.8/site-packages/pandas/core/indexes/base.py\u001b[0m in \u001b[0;36m__contains__\u001b[0;34m(self, key)\u001b[0m\n\u001b[1;32m   4263\u001b[0m         \u001b[0;32mFalse\u001b[0m\u001b[0;34m\u001b[0m\u001b[0;34m\u001b[0m\u001b[0m\n\u001b[1;32m   4264\u001b[0m         \"\"\"\n\u001b[0;32m-> 4265\u001b[0;31m         \u001b[0mhash\u001b[0m\u001b[0;34m(\u001b[0m\u001b[0mkey\u001b[0m\u001b[0;34m)\u001b[0m\u001b[0;34m\u001b[0m\u001b[0;34m\u001b[0m\u001b[0m\n\u001b[0m\u001b[1;32m   4266\u001b[0m         \u001b[0;32mtry\u001b[0m\u001b[0;34m:\u001b[0m\u001b[0;34m\u001b[0m\u001b[0;34m\u001b[0m\u001b[0m\n\u001b[1;32m   4267\u001b[0m             \u001b[0;32mreturn\u001b[0m \u001b[0mkey\u001b[0m \u001b[0;32min\u001b[0m \u001b[0mself\u001b[0m\u001b[0;34m.\u001b[0m\u001b[0m_engine\u001b[0m\u001b[0;34m\u001b[0m\u001b[0;34m\u001b[0m\u001b[0m\n",
      "\u001b[0;32m~/anaconda/anaconda3/lib/python3.8/site-packages/pandas/core/generic.py\u001b[0m in \u001b[0;36m__hash__\u001b[0;34m(self)\u001b[0m\n\u001b[1;32m   1782\u001b[0m \u001b[0;34m\u001b[0m\u001b[0m\n\u001b[1;32m   1783\u001b[0m     \u001b[0;32mdef\u001b[0m \u001b[0m__hash__\u001b[0m\u001b[0;34m(\u001b[0m\u001b[0mself\u001b[0m\u001b[0;34m)\u001b[0m \u001b[0;34m->\u001b[0m \u001b[0mint\u001b[0m\u001b[0;34m:\u001b[0m\u001b[0;34m\u001b[0m\u001b[0;34m\u001b[0m\u001b[0m\n\u001b[0;32m-> 1784\u001b[0;31m         raise TypeError(\n\u001b[0m\u001b[1;32m   1785\u001b[0m             \u001b[0;34mf\"{repr(type(self).__name__)} objects are mutable, \"\u001b[0m\u001b[0;34m\u001b[0m\u001b[0;34m\u001b[0m\u001b[0m\n\u001b[1;32m   1786\u001b[0m             \u001b[0;34mf\"thus they cannot be hashed\"\u001b[0m\u001b[0;34m\u001b[0m\u001b[0;34m\u001b[0m\u001b[0m\n",
      "\u001b[0;31mTypeError\u001b[0m: 'Series' objects are mutable, thus they cannot be hashed"
     ]
    }
   ],
   "source": [
    "ls['host_response_rate']=ls['host_response_rate'].str.replace('%','')\n",
    "#ls['host_response_rate'] = ls['host_response_rate']"
   ]
  },
  {
   "cell_type": "code",
   "execution_count": 13,
   "id": "invalid-ribbon",
   "metadata": {
    "ExecuteTime": {
     "end_time": "2021-03-11T19:25:35.224695Z",
     "start_time": "2021-03-11T19:25:35.198882Z"
    },
    "scrolled": true
   },
   "outputs": [
    {
     "ename": "DataError",
     "evalue": "No numeric types to aggregate",
     "output_type": "error",
     "traceback": [
      "\u001b[0;31m---------------------------------------------------------------------------\u001b[0m",
      "\u001b[0;31mDataError\u001b[0m                                 Traceback (most recent call last)",
      "\u001b[0;32m<ipython-input-13-8ba63e6e42ce>\u001b[0m in \u001b[0;36m<module>\u001b[0;34m\u001b[0m\n\u001b[1;32m      1\u001b[0m \u001b[0;32mimport\u001b[0m \u001b[0mnumpy\u001b[0m \u001b[0;32mas\u001b[0m \u001b[0mnp\u001b[0m\u001b[0;34m\u001b[0m\u001b[0;34m\u001b[0m\u001b[0m\n\u001b[0;32m----> 2\u001b[0;31m \u001b[0mls\u001b[0m\u001b[0;34m.\u001b[0m\u001b[0mgroupby\u001b[0m\u001b[0;34m(\u001b[0m\u001b[0;34m'neighbourhood_group_cleansed'\u001b[0m\u001b[0;34m)\u001b[0m\u001b[0;34m.\u001b[0m\u001b[0magg\u001b[0m\u001b[0;34m(\u001b[0m\u001b[0;34m{\u001b[0m\u001b[0;34m'host_response_rate'\u001b[0m\u001b[0;34m:\u001b[0m\u001b[0;34m'mean'\u001b[0m\u001b[0;34m}\u001b[0m\u001b[0;34m)\u001b[0m\u001b[0;34m\u001b[0m\u001b[0;34m\u001b[0m\u001b[0m\n\u001b[0m",
      "\u001b[0;32m~/anaconda/anaconda3/lib/python3.8/site-packages/pandas/core/groupby/generic.py\u001b[0m in \u001b[0;36maggregate\u001b[0;34m(self, func, engine, engine_kwargs, *args, **kwargs)\u001b[0m\n\u001b[1;32m    943\u001b[0m         \u001b[0mfunc\u001b[0m \u001b[0;34m=\u001b[0m \u001b[0mmaybe_mangle_lambdas\u001b[0m\u001b[0;34m(\u001b[0m\u001b[0mfunc\u001b[0m\u001b[0;34m)\u001b[0m\u001b[0;34m\u001b[0m\u001b[0;34m\u001b[0m\u001b[0m\n\u001b[1;32m    944\u001b[0m \u001b[0;34m\u001b[0m\u001b[0m\n\u001b[0;32m--> 945\u001b[0;31m         \u001b[0mresult\u001b[0m\u001b[0;34m,\u001b[0m \u001b[0mhow\u001b[0m \u001b[0;34m=\u001b[0m \u001b[0maggregate\u001b[0m\u001b[0;34m(\u001b[0m\u001b[0mself\u001b[0m\u001b[0;34m,\u001b[0m \u001b[0mfunc\u001b[0m\u001b[0;34m,\u001b[0m \u001b[0;34m*\u001b[0m\u001b[0margs\u001b[0m\u001b[0;34m,\u001b[0m \u001b[0;34m**\u001b[0m\u001b[0mkwargs\u001b[0m\u001b[0;34m)\u001b[0m\u001b[0;34m\u001b[0m\u001b[0;34m\u001b[0m\u001b[0m\n\u001b[0m\u001b[1;32m    946\u001b[0m         \u001b[0;32mif\u001b[0m \u001b[0mhow\u001b[0m \u001b[0;32mis\u001b[0m \u001b[0;32mNone\u001b[0m\u001b[0;34m:\u001b[0m\u001b[0;34m\u001b[0m\u001b[0;34m\u001b[0m\u001b[0m\n\u001b[1;32m    947\u001b[0m             \u001b[0;32mreturn\u001b[0m \u001b[0mresult\u001b[0m\u001b[0;34m\u001b[0m\u001b[0;34m\u001b[0m\u001b[0m\n",
      "\u001b[0;32m~/anaconda/anaconda3/lib/python3.8/site-packages/pandas/core/aggregation.py\u001b[0m in \u001b[0;36maggregate\u001b[0;34m(obj, arg, *args, **kwargs)\u001b[0m\n\u001b[1;32m    564\u001b[0m     \u001b[0;32melif\u001b[0m \u001b[0mis_dict_like\u001b[0m\u001b[0;34m(\u001b[0m\u001b[0marg\u001b[0m\u001b[0;34m)\u001b[0m\u001b[0;34m:\u001b[0m\u001b[0;34m\u001b[0m\u001b[0;34m\u001b[0m\u001b[0m\n\u001b[1;32m    565\u001b[0m         \u001b[0marg\u001b[0m \u001b[0;34m=\u001b[0m \u001b[0mcast\u001b[0m\u001b[0;34m(\u001b[0m\u001b[0mAggFuncTypeDict\u001b[0m\u001b[0;34m,\u001b[0m \u001b[0marg\u001b[0m\u001b[0;34m)\u001b[0m\u001b[0;34m\u001b[0m\u001b[0;34m\u001b[0m\u001b[0m\n\u001b[0;32m--> 566\u001b[0;31m         \u001b[0;32mreturn\u001b[0m \u001b[0magg_dict_like\u001b[0m\u001b[0;34m(\u001b[0m\u001b[0mobj\u001b[0m\u001b[0;34m,\u001b[0m \u001b[0marg\u001b[0m\u001b[0;34m,\u001b[0m \u001b[0m_axis\u001b[0m\u001b[0;34m)\u001b[0m\u001b[0;34m,\u001b[0m \u001b[0;32mTrue\u001b[0m\u001b[0;34m\u001b[0m\u001b[0;34m\u001b[0m\u001b[0m\n\u001b[0m\u001b[1;32m    567\u001b[0m     \u001b[0;32melif\u001b[0m \u001b[0mis_list_like\u001b[0m\u001b[0;34m(\u001b[0m\u001b[0marg\u001b[0m\u001b[0;34m)\u001b[0m\u001b[0;34m:\u001b[0m\u001b[0;34m\u001b[0m\u001b[0;34m\u001b[0m\u001b[0m\n\u001b[1;32m    568\u001b[0m         \u001b[0;31m# we require a list, but not an 'str'\u001b[0m\u001b[0;34m\u001b[0m\u001b[0;34m\u001b[0m\u001b[0;34m\u001b[0m\u001b[0m\n",
      "\u001b[0;32m~/anaconda/anaconda3/lib/python3.8/site-packages/pandas/core/aggregation.py\u001b[0m in \u001b[0;36magg_dict_like\u001b[0;34m(obj, arg, _axis)\u001b[0m\n\u001b[1;32m    750\u001b[0m     \u001b[0;32melse\u001b[0m\u001b[0;34m:\u001b[0m\u001b[0;34m\u001b[0m\u001b[0;34m\u001b[0m\u001b[0m\n\u001b[1;32m    751\u001b[0m         \u001b[0;31m# key used for column selection and output\u001b[0m\u001b[0;34m\u001b[0m\u001b[0;34m\u001b[0m\u001b[0;34m\u001b[0m\u001b[0m\n\u001b[0;32m--> 752\u001b[0;31m         \u001b[0mresults\u001b[0m \u001b[0;34m=\u001b[0m \u001b[0;34m{\u001b[0m\u001b[0mkey\u001b[0m\u001b[0;34m:\u001b[0m \u001b[0mobj\u001b[0m\u001b[0;34m.\u001b[0m\u001b[0m_gotitem\u001b[0m\u001b[0;34m(\u001b[0m\u001b[0mkey\u001b[0m\u001b[0;34m,\u001b[0m \u001b[0mndim\u001b[0m\u001b[0;34m=\u001b[0m\u001b[0;36m1\u001b[0m\u001b[0;34m)\u001b[0m\u001b[0;34m.\u001b[0m\u001b[0magg\u001b[0m\u001b[0;34m(\u001b[0m\u001b[0mhow\u001b[0m\u001b[0;34m)\u001b[0m \u001b[0;32mfor\u001b[0m \u001b[0mkey\u001b[0m\u001b[0;34m,\u001b[0m \u001b[0mhow\u001b[0m \u001b[0;32min\u001b[0m \u001b[0marg\u001b[0m\u001b[0;34m.\u001b[0m\u001b[0mitems\u001b[0m\u001b[0;34m(\u001b[0m\u001b[0;34m)\u001b[0m\u001b[0;34m}\u001b[0m\u001b[0;34m\u001b[0m\u001b[0;34m\u001b[0m\u001b[0m\n\u001b[0m\u001b[1;32m    753\u001b[0m \u001b[0;34m\u001b[0m\u001b[0m\n\u001b[1;32m    754\u001b[0m     \u001b[0;31m# set the final keys\u001b[0m\u001b[0;34m\u001b[0m\u001b[0;34m\u001b[0m\u001b[0;34m\u001b[0m\u001b[0m\n",
      "\u001b[0;32m~/anaconda/anaconda3/lib/python3.8/site-packages/pandas/core/aggregation.py\u001b[0m in \u001b[0;36m<dictcomp>\u001b[0;34m(.0)\u001b[0m\n\u001b[1;32m    750\u001b[0m     \u001b[0;32melse\u001b[0m\u001b[0;34m:\u001b[0m\u001b[0;34m\u001b[0m\u001b[0;34m\u001b[0m\u001b[0m\n\u001b[1;32m    751\u001b[0m         \u001b[0;31m# key used for column selection and output\u001b[0m\u001b[0;34m\u001b[0m\u001b[0;34m\u001b[0m\u001b[0;34m\u001b[0m\u001b[0m\n\u001b[0;32m--> 752\u001b[0;31m         \u001b[0mresults\u001b[0m \u001b[0;34m=\u001b[0m \u001b[0;34m{\u001b[0m\u001b[0mkey\u001b[0m\u001b[0;34m:\u001b[0m \u001b[0mobj\u001b[0m\u001b[0;34m.\u001b[0m\u001b[0m_gotitem\u001b[0m\u001b[0;34m(\u001b[0m\u001b[0mkey\u001b[0m\u001b[0;34m,\u001b[0m \u001b[0mndim\u001b[0m\u001b[0;34m=\u001b[0m\u001b[0;36m1\u001b[0m\u001b[0;34m)\u001b[0m\u001b[0;34m.\u001b[0m\u001b[0magg\u001b[0m\u001b[0;34m(\u001b[0m\u001b[0mhow\u001b[0m\u001b[0;34m)\u001b[0m \u001b[0;32mfor\u001b[0m \u001b[0mkey\u001b[0m\u001b[0;34m,\u001b[0m \u001b[0mhow\u001b[0m \u001b[0;32min\u001b[0m \u001b[0marg\u001b[0m\u001b[0;34m.\u001b[0m\u001b[0mitems\u001b[0m\u001b[0;34m(\u001b[0m\u001b[0;34m)\u001b[0m\u001b[0;34m}\u001b[0m\u001b[0;34m\u001b[0m\u001b[0;34m\u001b[0m\u001b[0m\n\u001b[0m\u001b[1;32m    753\u001b[0m \u001b[0;34m\u001b[0m\u001b[0m\n\u001b[1;32m    754\u001b[0m     \u001b[0;31m# set the final keys\u001b[0m\u001b[0;34m\u001b[0m\u001b[0;34m\u001b[0m\u001b[0;34m\u001b[0m\u001b[0m\n",
      "\u001b[0;32m~/anaconda/anaconda3/lib/python3.8/site-packages/pandas/core/groupby/generic.py\u001b[0m in \u001b[0;36maggregate\u001b[0;34m(self, func, engine, engine_kwargs, *args, **kwargs)\u001b[0m\n\u001b[1;32m    239\u001b[0m \u001b[0;34m\u001b[0m\u001b[0m\n\u001b[1;32m    240\u001b[0m         \u001b[0;32mif\u001b[0m \u001b[0misinstance\u001b[0m\u001b[0;34m(\u001b[0m\u001b[0mfunc\u001b[0m\u001b[0;34m,\u001b[0m \u001b[0mstr\u001b[0m\u001b[0;34m)\u001b[0m\u001b[0;34m:\u001b[0m\u001b[0;34m\u001b[0m\u001b[0;34m\u001b[0m\u001b[0m\n\u001b[0;32m--> 241\u001b[0;31m             \u001b[0;32mreturn\u001b[0m \u001b[0mgetattr\u001b[0m\u001b[0;34m(\u001b[0m\u001b[0mself\u001b[0m\u001b[0;34m,\u001b[0m \u001b[0mfunc\u001b[0m\u001b[0;34m)\u001b[0m\u001b[0;34m(\u001b[0m\u001b[0;34m*\u001b[0m\u001b[0margs\u001b[0m\u001b[0;34m,\u001b[0m \u001b[0;34m**\u001b[0m\u001b[0mkwargs\u001b[0m\u001b[0;34m)\u001b[0m\u001b[0;34m\u001b[0m\u001b[0;34m\u001b[0m\u001b[0m\n\u001b[0m\u001b[1;32m    242\u001b[0m \u001b[0;34m\u001b[0m\u001b[0m\n\u001b[1;32m    243\u001b[0m         \u001b[0;32melif\u001b[0m \u001b[0misinstance\u001b[0m\u001b[0;34m(\u001b[0m\u001b[0mfunc\u001b[0m\u001b[0;34m,\u001b[0m \u001b[0mabc\u001b[0m\u001b[0;34m.\u001b[0m\u001b[0mIterable\u001b[0m\u001b[0;34m)\u001b[0m\u001b[0;34m:\u001b[0m\u001b[0;34m\u001b[0m\u001b[0;34m\u001b[0m\u001b[0m\n",
      "\u001b[0;32m~/anaconda/anaconda3/lib/python3.8/site-packages/pandas/core/groupby/groupby.py\u001b[0m in \u001b[0;36mmean\u001b[0;34m(self, numeric_only)\u001b[0m\n\u001b[1;32m   1494\u001b[0m         \u001b[0mName\u001b[0m\u001b[0;34m:\u001b[0m \u001b[0mB\u001b[0m\u001b[0;34m,\u001b[0m \u001b[0mdtype\u001b[0m\u001b[0;34m:\u001b[0m \u001b[0mfloat64\u001b[0m\u001b[0;34m\u001b[0m\u001b[0;34m\u001b[0m\u001b[0m\n\u001b[1;32m   1495\u001b[0m         \"\"\"\n\u001b[0;32m-> 1496\u001b[0;31m         return self._cython_agg_general(\n\u001b[0m\u001b[1;32m   1497\u001b[0m             \u001b[0;34m\"mean\"\u001b[0m\u001b[0;34m,\u001b[0m\u001b[0;34m\u001b[0m\u001b[0;34m\u001b[0m\u001b[0m\n\u001b[1;32m   1498\u001b[0m             \u001b[0malt\u001b[0m\u001b[0;34m=\u001b[0m\u001b[0;32mlambda\u001b[0m \u001b[0mx\u001b[0m\u001b[0;34m,\u001b[0m \u001b[0maxis\u001b[0m\u001b[0;34m:\u001b[0m \u001b[0mSeries\u001b[0m\u001b[0;34m(\u001b[0m\u001b[0mx\u001b[0m\u001b[0;34m)\u001b[0m\u001b[0;34m.\u001b[0m\u001b[0mmean\u001b[0m\u001b[0;34m(\u001b[0m\u001b[0mnumeric_only\u001b[0m\u001b[0;34m=\u001b[0m\u001b[0mnumeric_only\u001b[0m\u001b[0;34m)\u001b[0m\u001b[0;34m,\u001b[0m\u001b[0;34m\u001b[0m\u001b[0;34m\u001b[0m\u001b[0m\n",
      "\u001b[0;32m~/anaconda/anaconda3/lib/python3.8/site-packages/pandas/core/groupby/groupby.py\u001b[0m in \u001b[0;36m_cython_agg_general\u001b[0;34m(self, how, alt, numeric_only, min_count)\u001b[0m\n\u001b[1;32m   1079\u001b[0m \u001b[0;34m\u001b[0m\u001b[0m\n\u001b[1;32m   1080\u001b[0m         \u001b[0;32mif\u001b[0m \u001b[0;32mnot\u001b[0m \u001b[0moutput\u001b[0m\u001b[0;34m:\u001b[0m\u001b[0;34m\u001b[0m\u001b[0;34m\u001b[0m\u001b[0m\n\u001b[0;32m-> 1081\u001b[0;31m             \u001b[0;32mraise\u001b[0m \u001b[0mDataError\u001b[0m\u001b[0;34m(\u001b[0m\u001b[0;34m\"No numeric types to aggregate\"\u001b[0m\u001b[0;34m)\u001b[0m\u001b[0;34m\u001b[0m\u001b[0;34m\u001b[0m\u001b[0m\n\u001b[0m\u001b[1;32m   1082\u001b[0m \u001b[0;34m\u001b[0m\u001b[0m\n\u001b[1;32m   1083\u001b[0m         \u001b[0;32mreturn\u001b[0m \u001b[0mself\u001b[0m\u001b[0;34m.\u001b[0m\u001b[0m_wrap_aggregated_output\u001b[0m\u001b[0;34m(\u001b[0m\u001b[0moutput\u001b[0m\u001b[0;34m,\u001b[0m \u001b[0mindex\u001b[0m\u001b[0;34m=\u001b[0m\u001b[0mself\u001b[0m\u001b[0;34m.\u001b[0m\u001b[0mgrouper\u001b[0m\u001b[0;34m.\u001b[0m\u001b[0mresult_index\u001b[0m\u001b[0;34m)\u001b[0m\u001b[0;34m\u001b[0m\u001b[0;34m\u001b[0m\u001b[0m\n",
      "\u001b[0;31mDataError\u001b[0m: No numeric types to aggregate"
     ]
    }
   ],
   "source": [
    "import numpy as np\n",
    "ls.groupby('neighbourhood_group_cleansed').agg({'host_response_rate':'mean'})"
   ]
  },
  {
   "cell_type": "code",
   "execution_count": null,
   "id": "particular-storage",
   "metadata": {
    "ExecuteTime": {
     "end_time": "2021-03-11T19:21:08.495426Z",
     "start_time": "2021-03-11T19:21:06.250Z"
    },
    "scrolled": true
   },
   "outputs": [],
   "source": [
    "df_mean.columns"
   ]
  },
  {
   "cell_type": "markdown",
   "id": "mature-panic",
   "metadata": {},
   "source": [
    "# EDA"
   ]
  },
  {
   "cell_type": "markdown",
   "id": "together-survey",
   "metadata": {
    "heading_collapsed": true
   },
   "source": [
    "## host_listings_count"
   ]
  },
  {
   "cell_type": "code",
   "execution_count": null,
   "id": "dirty-grill",
   "metadata": {
    "ExecuteTime": {
     "end_time": "2021-03-11T19:21:08.496055Z",
     "start_time": "2021-03-11T19:21:06.265Z"
    },
    "hidden": true
   },
   "outputs": [],
   "source": [
    "col = 'host_listings_count'\n",
    "\n",
    "plt.figure(figsize=(25,24))\n",
    "plt.suptitle('Distributions '+col, fontsize=22)\n",
    "\n",
    "plt.subplot(311)\n",
    "g = sns.barplot(x='neighbourhood_group_cleansed',\n",
    "                y=col,\n",
    "                estimator = np.mean, \n",
    "                data=new_ls)\n",
    "# plt.legend(title='Fraud', loc='upper center', labels=['No', 'Yes'])\n",
    "g.set_title(\"Mean \"+col, fontsize=25)\n",
    "g.set_xlabel(\"Neighbourhood Names\", fontsize=17)\n",
    "g.set_ylabel(\"Mean - \"+col, fontsize=16)\n",
    "\n",
    "plt.subplot(312)\n",
    "g = sns.barplot(x='neighbourhood_group_cleansed',\n",
    "                y=col,\n",
    "                estimator = np.median, \n",
    "                data=new_ls)\n",
    "# plt.legend(title='Fraud', loc='upper center', labels=['No', 'Yes'])\n",
    "g.set_title(\"Median \"+col, fontsize=25)\n",
    "g.set_xlabel(\"Neighbourhood Names\", fontsize=17)\n",
    "g.set_ylabel(\"Median - \"+col, fontsize=16)\n",
    "\n",
    "plt.subplot(313)\n",
    "g = sns.barplot(x='neighbourhood_group_cleansed',\n",
    "                y=col,\n",
    "                estimator = np.std, \n",
    "                data=new_ls)\n",
    "# plt.legend(title='Fraud', loc='upper center', labels=['No', 'Yes'])\n",
    "g.set_title(\"Std \"+col, fontsize=25)\n",
    "g.set_xlabel(\"Neighbourhood Names\", fontsize=17)\n",
    "g.set_ylabel(\"Std - \"+col, fontsize=16)\n",
    "\n",
    "plt.subplots_adjust(hspace = 0.6, top = 0.85)\n",
    "\n",
    "\n",
    "plt.show()"
   ]
  },
  {
   "cell_type": "markdown",
   "id": "loving-complaint",
   "metadata": {
    "heading_collapsed": true
   },
   "source": [
    "## host_total_listings_count"
   ]
  },
  {
   "cell_type": "code",
   "execution_count": null,
   "id": "elementary-documentation",
   "metadata": {
    "ExecuteTime": {
     "end_time": "2021-03-11T19:21:08.496658Z",
     "start_time": "2021-03-11T19:21:06.273Z"
    },
    "hidden": true
   },
   "outputs": [],
   "source": [
    "col = 'host_total_listings_count'\n",
    "\n",
    "plt.figure(figsize=(25,24))\n",
    "plt.suptitle('Distributions '+col, fontsize=22)\n",
    "\n",
    "plt.subplot(311)\n",
    "g = sns.barplot(x='neighbourhood_group_cleansed',\n",
    "                y=col,\n",
    "                estimator = np.mean, \n",
    "                data=new_ls)\n",
    "# plt.legend(title='Fraud', loc='upper center', labels=['No', 'Yes'])\n",
    "g.set_title(\"Mean \"+col, fontsize=25)\n",
    "g.set_xlabel(\"Neighbourhood Names\", fontsize=17)\n",
    "g.set_ylabel(\"Mean - \"+col, fontsize=16)\n",
    "\n",
    "plt.subplot(312)\n",
    "g = sns.barplot(x='neighbourhood_group_cleansed',\n",
    "                y=col,\n",
    "                estimator = np.median, \n",
    "                data=new_ls)\n",
    "# plt.legend(title='Fraud', loc='upper center', labels=['No', 'Yes'])\n",
    "g.set_title(\"Median \"+col, fontsize=25)\n",
    "g.set_xlabel(\"Neighbourhood Names\", fontsize=17)\n",
    "g.set_ylabel(\"Median - \"+col, fontsize=16)\n",
    "\n",
    "plt.subplot(313)\n",
    "g = sns.barplot(x='neighbourhood_group_cleansed',\n",
    "                y=col,\n",
    "                estimator = np.std, \n",
    "                data=new_ls)\n",
    "# plt.legend(title='Fraud', loc='upper center', labels=['No', 'Yes'])\n",
    "g.set_title(\"Std \"+col, fontsize=25)\n",
    "g.set_xlabel(\"Neighbourhood Names\", fontsize=17)\n",
    "g.set_ylabel(\"Std - \"+col, fontsize=16)\n",
    "\n",
    "plt.subplots_adjust(hspace = 0.6, top = 0.85)\n",
    "\n",
    "\n",
    "plt.show()"
   ]
  },
  {
   "cell_type": "markdown",
   "id": "tested-vessel",
   "metadata": {
    "heading_collapsed": true
   },
   "source": [
    "## accommodates"
   ]
  },
  {
   "cell_type": "code",
   "execution_count": null,
   "id": "binary-cement",
   "metadata": {
    "ExecuteTime": {
     "end_time": "2021-03-11T19:21:08.497272Z",
     "start_time": "2021-03-11T19:21:06.281Z"
    },
    "hidden": true
   },
   "outputs": [],
   "source": [
    "col = 'accommodates'\n",
    "\n",
    "plt.figure(figsize=(25,24))\n",
    "plt.suptitle('Distributions '+col, fontsize=22)\n",
    "\n",
    "plt.subplot(311)\n",
    "g = sns.barplot(x='neighbourhood_group_cleansed',\n",
    "                y=col,\n",
    "                estimator = np.mean, \n",
    "                data=new_ls)\n",
    "# plt.legend(title='Fraud', loc='upper center', labels=['No', 'Yes'])\n",
    "g.set_title(\"Mean \"+col, fontsize=25)\n",
    "g.set_xlabel(\"Neighbourhood Names\", fontsize=17)\n",
    "g.set_ylabel(\"Mean - \"+col, fontsize=16)\n",
    "\n",
    "plt.subplot(312)\n",
    "g = sns.barplot(x='neighbourhood_group_cleansed',\n",
    "                y=col,\n",
    "                estimator = np.median, \n",
    "                data=new_ls)\n",
    "# plt.legend(title='Fraud', loc='upper center', labels=['No', 'Yes'])\n",
    "g.set_title(\"Median \"+col, fontsize=25)\n",
    "g.set_xlabel(\"Neighbourhood Names\", fontsize=17)\n",
    "g.set_ylabel(\"Median - \"+col, fontsize=16)\n",
    "\n",
    "plt.subplot(313)\n",
    "g = sns.barplot(x='neighbourhood_group_cleansed',\n",
    "                y=col,\n",
    "                estimator = np.std, \n",
    "                data=new_ls)\n",
    "# plt.legend(title='Fraud', loc='upper center', labels=['No', 'Yes'])\n",
    "g.set_title(\"Std \"+col, fontsize=25)\n",
    "g.set_xlabel(\"Neighbourhood Names\", fontsize=17)\n",
    "g.set_ylabel(\"Std - \"+col, fontsize=16)\n",
    "\n",
    "plt.subplots_adjust(hspace = 0.6, top = 0.85)\n",
    "\n",
    "\n",
    "plt.show()"
   ]
  },
  {
   "cell_type": "markdown",
   "id": "wooden-electron",
   "metadata": {
    "heading_collapsed": true
   },
   "source": [
    "## bathrooms"
   ]
  },
  {
   "cell_type": "code",
   "execution_count": null,
   "id": "following-affairs",
   "metadata": {
    "ExecuteTime": {
     "end_time": "2021-03-11T19:21:08.498078Z",
     "start_time": "2021-03-11T19:21:06.288Z"
    },
    "hidden": true
   },
   "outputs": [],
   "source": [
    "col = 'bathrooms'\n",
    "\n",
    "plt.figure(figsize=(25,24))\n",
    "plt.suptitle('Distributions '+col, fontsize=22)\n",
    "\n",
    "plt.subplot(311)\n",
    "g = sns.barplot(x='neighbourhood_group_cleansed',\n",
    "                y=col,\n",
    "                estimator = np.mean, \n",
    "                data=new_ls)\n",
    "# plt.legend(title='Fraud', loc='upper center', labels=['No', 'Yes'])\n",
    "g.set_title(\"Mean \"+col, fontsize=25)\n",
    "g.set_xlabel(\"Neighbourhood Names\", fontsize=17)\n",
    "g.set_ylabel(\"Mean - \"+col, fontsize=16)\n",
    "\n",
    "plt.subplot(312)\n",
    "g = sns.barplot(x='neighbourhood_group_cleansed',\n",
    "                y=col,\n",
    "                estimator = np.median, \n",
    "                data=new_ls)\n",
    "# plt.legend(title='Fraud', loc='upper center', labels=['No', 'Yes'])\n",
    "g.set_title(\"Median \"+col, fontsize=25)\n",
    "g.set_xlabel(\"Neighbourhood Names\", fontsize=17)\n",
    "g.set_ylabel(\"Median - \"+col, fontsize=16)\n",
    "\n",
    "plt.subplot(313)\n",
    "g = sns.barplot(x='neighbourhood_group_cleansed',\n",
    "                y=col,\n",
    "                estimator = np.std, \n",
    "                data=new_ls)\n",
    "# plt.legend(title='Fraud', loc='upper center', labels=['No', 'Yes'])\n",
    "g.set_title(\"Std \"+col, fontsize=25)\n",
    "g.set_xlabel(\"Neighbourhood Names\", fontsize=17)\n",
    "g.set_ylabel(\"Std - \"+col, fontsize=16)\n",
    "\n",
    "plt.subplots_adjust(hspace = 0.6, top = 0.85)\n",
    "\n",
    "\n",
    "plt.show()"
   ]
  },
  {
   "cell_type": "markdown",
   "id": "greek-watts",
   "metadata": {
    "heading_collapsed": true
   },
   "source": [
    "## bedrooms"
   ]
  },
  {
   "cell_type": "code",
   "execution_count": null,
   "id": "married-mexican",
   "metadata": {
    "ExecuteTime": {
     "end_time": "2021-03-11T19:21:08.498637Z",
     "start_time": "2021-03-11T19:21:06.295Z"
    },
    "hidden": true
   },
   "outputs": [],
   "source": [
    "col = 'bedrooms'\n",
    "\n",
    "plt.figure(figsize=(25,24))\n",
    "plt.suptitle('Distributions '+col, fontsize=22)\n",
    "\n",
    "plt.subplot(311)\n",
    "g = sns.barplot(x='neighbourhood_group_cleansed',\n",
    "                y=col,\n",
    "                estimator = np.mean, \n",
    "                data=new_ls)\n",
    "# plt.legend(title='Fraud', loc='upper center', labels=['No', 'Yes'])\n",
    "g.set_title(\"Mean \"+col, fontsize=25)\n",
    "g.set_xlabel(\"Neighbourhood Names\", fontsize=17)\n",
    "g.set_ylabel(\"Mean - \"+col, fontsize=16)\n",
    "\n",
    "plt.subplot(312)\n",
    "g = sns.barplot(x='neighbourhood_group_cleansed',\n",
    "                y=col,\n",
    "                estimator = np.median, \n",
    "                data=new_ls)\n",
    "# plt.legend(title='Fraud', loc='upper center', labels=['No', 'Yes'])\n",
    "g.set_title(\"Median \"+col, fontsize=25)\n",
    "g.set_xlabel(\"Neighbourhood Names\", fontsize=17)\n",
    "g.set_ylabel(\"Median - \"+col, fontsize=16)\n",
    "\n",
    "plt.subplot(313)\n",
    "g = sns.barplot(x='neighbourhood_group_cleansed',\n",
    "                y=col,\n",
    "                estimator = np.std, \n",
    "                data=new_ls)\n",
    "# plt.legend(title='Fraud', loc='upper center', labels=['No', 'Yes'])\n",
    "g.set_title(\"Std \"+col, fontsize=25)\n",
    "g.set_xlabel(\"Neighbourhood Names\", fontsize=17)\n",
    "g.set_ylabel(\"Std - \"+col, fontsize=16)\n",
    "\n",
    "plt.subplots_adjust(hspace = 0.6, top = 0.85)\n",
    "\n",
    "\n",
    "plt.show()"
   ]
  },
  {
   "cell_type": "markdown",
   "id": "consecutive-teddy",
   "metadata": {},
   "source": [
    "## beds"
   ]
  },
  {
   "cell_type": "code",
   "execution_count": null,
   "id": "threatened-moore",
   "metadata": {
    "ExecuteTime": {
     "end_time": "2021-03-11T19:21:08.499215Z",
     "start_time": "2021-03-11T19:21:06.302Z"
    }
   },
   "outputs": [],
   "source": [
    "col = 'beds'\n",
    "\n",
    "plt.figure(figsize=(25,24))\n",
    "plt.suptitle('Distributions '+col, fontsize=22)\n",
    "\n",
    "plt.subplot(311)\n",
    "g = sns.barplot(x='neighbourhood_group_cleansed',\n",
    "                y=col,\n",
    "                estimator = np.mean, \n",
    "                data=new_ls)\n",
    "# plt.legend(title='Fraud', loc='upper center', labels=['No', 'Yes'])\n",
    "g.set_title(\"Mean \"+col, fontsize=25)\n",
    "g.set_xlabel(\"Neighbourhood Names\", fontsize=17)\n",
    "g.set_ylabel(\"Mean - \"+col, fontsize=16)\n",
    "\n",
    "plt.subplot(312)\n",
    "g = sns.barplot(x='neighbourhood_group_cleansed',\n",
    "                y=col,\n",
    "                estimator = np.median, \n",
    "                data=new_ls)\n",
    "# plt.legend(title='Fraud', loc='upper center', labels=['No', 'Yes'])\n",
    "g.set_title(\"Median \"+col, fontsize=25)\n",
    "g.set_xlabel(\"Neighbourhood Names\", fontsize=17)\n",
    "g.set_ylabel(\"Median - \"+col, fontsize=16)\n",
    "\n",
    "plt.subplot(313)\n",
    "g = sns.barplot(x='neighbourhood_group_cleansed',\n",
    "                y=col,\n",
    "                estimator = np.std, \n",
    "                data=new_ls)\n",
    "# plt.legend(title='Fraud', loc='upper center', labels=['No', 'Yes'])\n",
    "g.set_title(\"Std \"+col, fontsize=25)\n",
    "g.set_xlabel(\"Neighbourhood Names\", fontsize=17)\n",
    "g.set_ylabel(\"Std - \"+col, fontsize=16)\n",
    "\n",
    "plt.subplots_adjust(hspace = 0.6, top = 0.85)\n",
    "\n",
    "\n",
    "plt.show()"
   ]
  },
  {
   "cell_type": "markdown",
   "id": "found-bridges",
   "metadata": {},
   "source": [
    "## guests_included"
   ]
  },
  {
   "cell_type": "code",
   "execution_count": null,
   "id": "happy-guyana",
   "metadata": {
    "ExecuteTime": {
     "end_time": "2021-03-11T19:21:08.499824Z",
     "start_time": "2021-03-11T19:21:06.309Z"
    }
   },
   "outputs": [],
   "source": [
    "col = 'beds'\n",
    "\n",
    "plt.figure(figsize=(25,24))\n",
    "plt.suptitle('Distributions '+col, fontsize=22)\n",
    "\n",
    "plt.subplot(311)\n",
    "g = sns.barplot(x='neighbourhood_group_cleansed',\n",
    "                y=col,\n",
    "                estimator = np.mean, \n",
    "                data=new_ls)\n",
    "# plt.legend(title='Fraud', loc='upper center', labels=['No', 'Yes'])\n",
    "g.set_title(\"Mean \"+col, fontsize=25)\n",
    "g.set_xlabel(\"Neighbourhood Names\", fontsize=17)\n",
    "g.set_ylabel(\"Mean - \"+col, fontsize=16)\n",
    "\n",
    "plt.subplot(312)\n",
    "g = sns.barplot(x='neighbourhood_group_cleansed',\n",
    "                y=col,\n",
    "                estimator = np.median, \n",
    "                data=new_ls)\n",
    "# plt.legend(title='Fraud', loc='upper center', labels=['No', 'Yes'])\n",
    "g.set_title(\"Median \"+col, fontsize=25)\n",
    "g.set_xlabel(\"Neighbourhood Names\", fontsize=17)\n",
    "g.set_ylabel(\"Median - \"+col, fontsize=16)\n",
    "\n",
    "plt.subplot(313)\n",
    "g = sns.barplot(x='neighbourhood_group_cleansed',\n",
    "                y=col,\n",
    "                estimator = np.std, \n",
    "                data=new_ls)\n",
    "# plt.legend(title='Fraud', loc='upper center', labels=['No', 'Yes'])\n",
    "g.set_title(\"Std \"+col, fontsize=25)\n",
    "g.set_xlabel(\"Neighbourhood Names\", fontsize=17)\n",
    "g.set_ylabel(\"Std - \"+col, fontsize=16)\n",
    "\n",
    "plt.subplots_adjust(hspace = 0.6, top = 0.85)\n",
    "\n",
    "\n",
    "plt.show()"
   ]
  },
  {
   "cell_type": "code",
   "execution_count": null,
   "id": "primary-excellence",
   "metadata": {},
   "outputs": [],
   "source": []
  },
  {
   "cell_type": "code",
   "execution_count": null,
   "id": "supreme-doctor",
   "metadata": {},
   "outputs": [],
   "source": []
  }
 ],
 "metadata": {
  "kernelspec": {
   "display_name": "Python 3",
   "language": "python",
   "name": "python3"
  },
  "language_info": {
   "codemirror_mode": {
    "name": "ipython",
    "version": 3
   },
   "file_extension": ".py",
   "mimetype": "text/x-python",
   "name": "python",
   "nbconvert_exporter": "python",
   "pygments_lexer": "ipython3",
   "version": "3.8.5"
  },
  "latex_envs": {
   "LaTeX_envs_menu_present": true,
   "autoclose": true,
   "autocomplete": true,
   "bibliofile": "biblio.bib",
   "cite_by": "apalike",
   "current_citInitial": 1,
   "eqLabelWithNumbers": true,
   "eqNumInitial": 1,
   "hotkeys": {
    "equation": "Ctrl-E",
    "itemize": "Ctrl-I"
   },
   "labels_anchors": false,
   "latex_user_defs": false,
   "report_style_numbering": false,
   "user_envs_cfg": false
  },
  "toc": {
   "base_numbering": 1,
   "nav_menu": {},
   "number_sections": true,
   "sideBar": true,
   "skip_h1_title": false,
   "title_cell": "Table of Contents",
   "title_sidebar": "Contents",
   "toc_cell": false,
   "toc_position": {},
   "toc_section_display": true,
   "toc_window_display": false
  },
  "varInspector": {
   "cols": {
    "lenName": 16,
    "lenType": 16,
    "lenVar": 40
   },
   "kernels_config": {
    "python": {
     "delete_cmd_postfix": "",
     "delete_cmd_prefix": "del ",
     "library": "var_list.py",
     "varRefreshCmd": "print(var_dic_list())"
    },
    "r": {
     "delete_cmd_postfix": ") ",
     "delete_cmd_prefix": "rm(",
     "library": "var_list.r",
     "varRefreshCmd": "cat(var_dic_list()) "
    }
   },
   "types_to_exclude": [
    "module",
    "function",
    "builtin_function_or_method",
    "instance",
    "_Feature"
   ],
   "window_display": false
  }
 },
 "nbformat": 4,
 "nbformat_minor": 5
}
